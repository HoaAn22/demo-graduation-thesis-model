{
 "cells": [
  {
   "cell_type": "code",
   "execution_count": null,
   "metadata": {},
   "outputs": [],
   "source": []
  },
  {
   "cell_type": "markdown",
   "metadata": {},
   "source": [
    "# Cấu trúc xây dựng mô hình LSTM\n",
    "\n",
    "1. Thu thập dữ liệu, tương quan giữa các biến đến giá trị output\n",
    "2. Tiền xử lý\n",
    "3. Xây dựng tập train\n",
    "4. Xây dựng/tùy chỉnh mô hình\n",
    "5. Train mô hình\n",
    "6. Xử lý lựa chọn giá trị input mới để dự đoán giá trị trong tương lai\n",
    "7. Dự đoán"
   ]
  },
  {
   "cell_type": "markdown",
   "metadata": {},
   "source": [
    "## Tiền xử lý dữ liệu\n",
    "\n",
    "Với dữ liệu về tỷ giá/ lãi suất, xử lý bằng cách điền giá trị cũ vào các giá trị bị thiếu đến khi có giá trị mới (công bố tỷ giá/ lãi suất mới)\n",
    "\n",
    "* Đọc dữ liệu từ các file/DataBase\n",
    "* Xử lý dữ liệu điền giá trị thiếu\n",
    "* Gộp dữ liệu theo ngày\n",
    "* Lọc dữ liệu theo khoảng thời gian\n",
    "* lấy dữ liệu vào tập train và test\n",
    "\n"
   ]
  }
 ],
 "metadata": {
  "language_info": {
   "name": "python"
  }
 },
 "nbformat": 4,
 "nbformat_minor": 2
}
